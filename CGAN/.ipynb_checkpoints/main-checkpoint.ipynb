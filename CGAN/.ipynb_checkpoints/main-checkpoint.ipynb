{
 "cells": [
  {
   "cell_type": "code",
   "execution_count": null,
   "id": "41a5eb6f-b9f0-413f-998c-b7b9aba96c2e",
   "metadata": {},
   "outputs": [],
   "source": [
    "import torch\n",
    "import torch.nn as nn\n",
    "import time\n",
    "from torchvision import datasets, transforms\n",
    "from torchvision.utils import save_image, make_grid\n",
    "from torch.utils.data import DataLoader\n",
    "from torch.autograd import Variable"
   ]
  },
  {
   "cell_type": "code",
   "execution_count": null,
   "id": "550b1317-cbbd-4b47-abf7-8b988ea14302",
   "metadata": {},
   "outputs": [],
   "source": [
    "train_img = datasets.MNIST(root = 'MNIST/', train = True,\n",
    "                           download = True, transform = transforms.Compose([\n",
    "                                transforms.ToTensor(),\n",
    "                                transforms.Normalize(mean = (0.5,), std = (0.5,))\n",
    "                           ]))\n",
    "batch_size = 100\n",
    "train_data = DataLoader(dataset = train_img, batch_size = 100, shuffle = True, drop_last = True)"
   ]
  },
  {
   "cell_type": "code",
   "execution_count": null,
   "id": "8f16928c-9330-44fd-a66e-710607554c60",
   "metadata": {},
   "outputs": [],
   "source": [
    "def one_hot_vector(labels, C = 10):\n",
    "    one_hot = torch.FloatTensor(labels.size(0), C).zero_().to(device)\n",
    "    target = one_hot.scatter_(1, labels.unsqueeze(1), 1) # scatter_(dim, index, src)\n",
    "    target = Variable(target)\n",
    "    return target"
   ]
  },
  {
   "cell_type": "code",
   "execution_count": null,
   "id": "6b35a15b-8999-4f05-b31d-1603bd7c4827",
   "metadata": {},
   "outputs": [],
   "source": [
    "batch_size = 100\n",
    "device = 'cuda' if torch.cuda.is_available() else 'cpu'"
   ]
  },
  {
   "cell_type": "code",
   "execution_count": null,
   "id": "5279be0f-52e0-44a2-8768-5df5664a4217",
   "metadata": {},
   "outputs": [],
   "source": [
    "G = Generator().to(device)\n",
    "D = Discriminator().to(device)\n",
    "\n",
    "optim_G = torch.optim.Adam(G.parameters(), lr = 0.001)\n",
    "optim_D = torch.optim.Adam(D.parameters(), lr = 0.001)\n",
    "criterion = torch.nn.BCELoss()"
   ]
  },
  {
   "cell_type": "code",
   "execution_count": null,
   "id": "dd2a07e3-8338-4c3d-a2a6-5b3f32e03ebf",
   "metadata": {},
   "outputs": [],
   "source": [
    "# train\n",
    "total_batch = len(train_data) # 600\n",
    "\n",
    "for epoch in range(200):\n",
    "    avg_cost = [0, 0]\n",
    "    for x, y in train_data:\n",
    "        x = x.view(x.size(0), -1).to(device)\n",
    "        x_oh = one_hot_vector(y.to(device), 10)\n",
    "\n",
    "        z = torch.randn(batch_size, 100, device = device) # noise (random하게 noise 생성)\n",
    "        z_label = torch.randint(10, (batch_size,), device = device)\n",
    "        z_oh = one_hot_vector(z_label, 10)\n",
    "        fake_img = G(z, z_oh)\n",
    "\n",
    "        real = (torch.FloatTensor(x.size(0), 1).fill_(1.0)).to(device)\n",
    "        fake = (torch.FloatTensor(x.size(0), 1).fill_(0.0)).to(device)\n",
    "\n",
    "        # train Generator\n",
    "        optim_G.zero_grad()\n",
    "        g_cost = criterion(D(fake_img, z_oh), real) \n",
    "        g_cost.backward()\n",
    "        optim_G.step()\n",
    "\n",
    "        fake_img = fake_img.detach().to(device)\n",
    "        # train Discriminator\n",
    "        optim_D.zero_grad()\n",
    "        d_cost = criterion(D(torch.cat((x, z_img)), torch.cat((x_oh, z_oh))), torch.cat((real, fake)))\n",
    "        d_cost.backward()\n",
    "        optim_D.step()\n",
    "\n",
    "        avg_cost[0] += g_cost\n",
    "        avg_cost[1] += d_cost\n",
    "    avg_cost[0] /= total_batch\n",
    "    avg_cost[1] /= total_batch\n",
    "\n",
    "    if (epoch+1) % 10 == 0 or epoch < 10:\n",
    "        print(f\"Epoch : {epoch + 1}, Generator : {avg_cost[0]}, Discriminator : {avg_cost[1]}\")\n",
    "        z = torch.rand(100, 100, device = device)\n",
    "        label = torch.Tensor(100).fill_(0).long().to(device)\n",
    "        for i in range(10):\n",
    "            for j in range(10):\n",
    "                label[10*i+j] = j\n",
    "        z_oh = one_hot_vector(label, 10)\n",
    "        fake_img = G(z, z_oh)\n",
    "        fake_img = fake_img.reshape([100, 1, 28, 28])\n",
    "        img_grid = make_grid(fake_img, nrow = 10, normalize = True)\n",
    "        save_image(img_grid, \"/content/drive/MyDrive/Deep Learning/GAN/GAN Result/%d.png\"%(epoch+1))"
   ]
  }
 ],
 "metadata": {
  "kernelspec": {
   "display_name": "Python 3",
   "language": "python",
   "name": "python3"
  },
  "language_info": {
   "codemirror_mode": {
    "name": "ipython",
    "version": 3
   },
   "file_extension": ".py",
   "mimetype": "text/x-python",
   "name": "python",
   "nbconvert_exporter": "python",
   "pygments_lexer": "ipython3",
   "version": "3.8.10"
  }
 },
 "nbformat": 4,
 "nbformat_minor": 5
}
