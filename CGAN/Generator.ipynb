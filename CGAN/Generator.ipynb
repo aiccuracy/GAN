{
 "cells": [
  {
   "cell_type": "code",
   "execution_count": null,
   "id": "15596472-8304-46e2-9518-aa911efd1ed5",
   "metadata": {},
   "outputs": [],
   "source": [
    "import torch\n",
    "import torch.nn as nn\n",
    "import time\n",
    "from torchvision import datasets, transforms\n",
    "from torchvision.utils import save_image, make_grid\n",
    "from torch.utils.data import DataLoader\n",
    "from torch.autograd import Variable"
   ]
  },
  {
   "cell_type": "code",
   "execution_count": null,
   "id": "27b0b8b2-d6f2-44d6-8524-c53153b92cae",
   "metadata": {},
   "outputs": [],
   "source": [
    "# fake image를 생성해야 하므로, 마지막 layer에서 784개의 값을 만들어 내도록 해야 함\n",
    "class Generator(nn.Module):\n",
    "    def __init__(self):\n",
    "        super().__init__()\n",
    "\n",
    "        self.model = nn.Sequential(\n",
    "            nn.Linear(110, 256), # 110 = noise + label\n",
    "            nn.ReLU(),\n",
    "            nn.Dropout(), # 노드를 무작위로 껐다 켰다 반복하는 것\n",
    "            nn.Linear(256, 512),\n",
    "            nn.ReLU(),\n",
    "            nn.Dropout(),\n",
    "            nn.Linear(512, 1024),\n",
    "            nn.ReLU(),\n",
    "            nn.Dropout(),\n",
    "            nn.Linear(1024, 784),\n",
    "            nn.Tanh()\n",
    "        )\n",
    "    def forward(self, x, y):\n",
    "        x = torch.cat((x, y), dim = 1) # concatenation\n",
    "        x = self.model(x) # forward propagation\n",
    "        return x"
   ]
  }
 ],
 "metadata": {
  "kernelspec": {
   "display_name": "Python 3",
   "language": "python",
   "name": "python3"
  },
  "language_info": {
   "codemirror_mode": {
    "name": "ipython",
    "version": 3
   },
   "file_extension": ".py",
   "mimetype": "text/x-python",
   "name": "python",
   "nbconvert_exporter": "python",
   "pygments_lexer": "ipython3",
   "version": "3.8.10"
  }
 },
 "nbformat": 4,
 "nbformat_minor": 5
}
