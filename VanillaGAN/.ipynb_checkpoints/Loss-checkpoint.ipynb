{
 "cells": [
  {
   "cell_type": "code",
   "execution_count": null,
   "id": "7469222a-434b-402c-a570-23ea0e52fa60",
   "metadata": {},
   "outputs": [],
   "source": [
    "from __future__ import print_function, division\n",
    "import os\n",
    "import torch\n",
    "import torch.nn as nn\n",
    "import pandas as pd\n",
    "from skimage import io, transform\n",
    "import numpy as np\n",
    "import matplotlib.pyplot as plt\n",
    "from torch.utils.data import Dataset, DataLoader\n",
    "from torchvision import transforms, utils, datasets\n",
    "import torch.utils.data as data"
   ]
  },
  {
   "cell_type": "code",
   "execution_count": null,
   "id": "bb47bd3b-3b31-4eff-9b2f-dea321376f2e",
   "metadata": {},
   "outputs": [],
   "source": [
    "class Loss(torch.nn.Module):\n",
    "    def __init__(self):\n",
    "        super().__init__()\n",
    "        self.loss = torch.nn.BCELoss()\n",
    "    def forward(self, x, y):\n",
    "        return self.loss(x, y)\n",
    "\n",
    "if __name__ == \"__main__\":\n",
    "    x = torch.rand(3, 1)\n",
    "    y = torch.rand(3, 1)\n",
    "    loss = Loss()\n",
    "\n",
    "    print(loss(x, y))"
   ]
  },
  {
   "cell_type": "code",
   "execution_count": null,
   "id": "a4fe36ae-be0d-4ec7-90dd-57ccfcebbfd3",
   "metadata": {},
   "outputs": [],
   "source": []
  }
 ],
 "metadata": {
  "kernelspec": {
   "display_name": "Python 3",
   "language": "python",
   "name": "python3"
  },
  "language_info": {
   "codemirror_mode": {
    "name": "ipython",
    "version": 3
   },
   "file_extension": ".py",
   "mimetype": "text/x-python",
   "name": "python",
   "nbconvert_exporter": "python",
   "pygments_lexer": "ipython3",
   "version": "3.8.10"
  }
 },
 "nbformat": 4,
 "nbformat_minor": 5
}
