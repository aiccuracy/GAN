{
 "cells": [
  {
   "cell_type": "code",
   "execution_count": null,
   "id": "6726ce24-7093-401b-a7b0-39289bedba06",
   "metadata": {},
   "outputs": [],
   "source": [
    "from __future__ import print_function, division\n",
    "import os\n",
    "import torch\n",
    "import torch.nn as nn\n",
    "import pandas as pd\n",
    "from skimage import io, transform\n",
    "import numpy as np\n",
    "import matplotlib.pyplot as plt\n",
    "from torch.utils.data import Dataset, DataLoader\n",
    "from torchvision import transforms, utils, datasets\n",
    "import torch.utils.data as data\n",
    "import sys\n",
    "from pathlib import Path\n",
    "\n",
    "sys.path.insert(0, str( Path(Path(Path(Path(Path(__file__).parent.absolute()).parent.absolute()).parent.absolute()).parent.absolute()) ))\n",
    "from Dataset import Dataset, DataLoader\n",
    "from Discriminator import Discriminator\n",
    "from Generator import Generator\n",
    "from Loss import Loss"
   ]
  },
  {
   "cell_type": "code",
   "execution_count": null,
   "id": "012af152-03cc-4342-932a-d0657a1ede35",
   "metadata": {},
   "outputs": [],
   "source": [
    "dataset = Dataset()\n",
    "data_loader = DataLoader(dataset)\n",
    "\n",
    "device = 'cuda' if torch.cuda.is_available() else 'cpu'\n",
    "\n",
    "G = Generator().to(device)\n",
    "D = Discriminator().to(device)\n",
    "criterion = Loss()\n",
    "\n",
    "optim_G = torch.optim.Adam(G.parameters(), lr = 0.0001)\n",
    "optim_D = torch.optim.Adam(D.parameters(), lr = 0.0001)"
   ]
  },
  {
   "cell_type": "code",
   "execution_count": null,
   "id": "65bdc348-9d37-4303-bf10-9470e985b32b",
   "metadata": {},
   "outputs": [],
   "source": [
    "total_epochs = 200\n",
    "total_batch = len(data_loader.dataloader)\n",
    "\n",
    "for epcoh in range(total_epochs):\n",
    "    avg_cost = [0, 0]\n",
    "    for x, _ in data_loader.dataloader:\n",
    "        real = (torch.FloatTensor(x.size(0), 1).fill_(1.0)).to(device)\n",
    "        fake = (torch.FloatTensor(x.size(0), 1).fill_(0.0)).to(device)\n",
    "\n",
    "        x = x.view(x.size(0), -1).to(device)\n",
    "\n",
    "        noise = torch.randn(data_loader.dataloader.batch_size, 100, device = device)\n",
    "\n",
    "        fake_img = G(noise)\n",
    "\n",
    "        # train Generator\n",
    "        optim_G.zero_grad()\n",
    "        g_cost = criterion(D(fake_img), real)\n",
    "        g_cost.backward()\n",
    "        optim_G.step()\n",
    "\n",
    "        fake_img = fake_img.detach().to(device) # 얘를 굳이 하는 이유가 머야\n",
    "\n",
    "        # train Discriminator\n",
    "        optim_D.zero_grad()\n",
    "        d_cost = criterion(D(torch.cat((x, fake_img))), torch.cat((real, fake)))\n",
    "        d_cost.backward()\n",
    "        optim_D.step()\n",
    "\n",
    "        avg_cost[0] += g_cost\n",
    "        avg_cost[1] += d_cost\n",
    "\n",
    "    avg_cost[0] /= total_batch\n",
    "    avg_cost[1] /= total_batch\n",
    "\n",
    "    if (epoch+1) % 10 == 0:\n",
    "        fake_img = fake_img.reshape([batch_size, 1, 28, 28])\n",
    "        img_grid = make_grid(fake_img, nrow=10, normalize=True)\n",
    "        save_image(img_grid, \"/content/drive/MyDrive/Deep Learning/GAN/GAN Result/%d.png\"%(epoch+1))\n",
    "        print(\"Epoch: %d, Generator: %f, Discriminator: %f\"%(epoch+1, avg_cost[0], avg_cost[1]))"
   ]
  }
 ],
 "metadata": {
  "kernelspec": {
   "display_name": "Python 3",
   "language": "python",
   "name": "python3"
  },
  "language_info": {
   "codemirror_mode": {
    "name": "ipython",
    "version": 3
   },
   "file_extension": ".py",
   "mimetype": "text/x-python",
   "name": "python",
   "nbconvert_exporter": "python",
   "pygments_lexer": "ipython3",
   "version": "3.8.10"
  }
 },
 "nbformat": 4,
 "nbformat_minor": 5
}
