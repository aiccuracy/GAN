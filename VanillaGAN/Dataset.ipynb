{
 "cells": [
  {
   "cell_type": "code",
   "execution_count": null,
   "id": "ef8a0428-02cf-4650-a8c0-fe443ce4970c",
   "metadata": {},
   "outputs": [],
   "source": [
    "from __future__ import print_function, division\n",
    "import os\n",
    "import torch\n",
    "import torch.nn as nn\n",
    "import pandas as pd\n",
    "from skimage import io, transform\n",
    "import numpy as np\n",
    "import matplotlib.pyplot as plt\n",
    "from torch.utils.data import Dataset, DataLoader\n",
    "from torchvision import transforms, utils, datasets\n",
    "import torch.utils.data as data"
   ]
  },
  {
   "cell_type": "code",
   "execution_count": null,
   "id": "359f0290-80ab-4903-99cd-733e33c3880e",
   "metadata": {},
   "outputs": [],
   "source": [
    "class Dataset(data.Dataset):\n",
    "    def __init__(self):\n",
    "        super().__init__()\n",
    "        self.dataset = datasets.MNIST(root = 'MNIST/', \n",
    "                                      train = True, download = True, \n",
    "                                      transform = transforms.Compose([\n",
    "                                          transforms.ToTensor(),\n",
    "                                          transforms.Normalize(mean = (0.5,), std = (0.5,))\n",
    "                                                                                                                      \n",
    "        ]))\n",
    "    # train = True : create dataset from `MNIST/processed/training.pt`\n",
    "    # download = True : download the dataset from the internet and put it in root directory\n",
    "    # transform : 이미지 변형\n",
    "    # ToTensor() : numpy 배열의 이미지를 tensor 타입으로 변경해줌\n",
    "    # Normalize(mean, std, inplace = False) : 이미지를 정규화\n",
    "    def __getitem__(self, index):\n",
    "        return self.dataset[index]\n",
    "    def __len__(self):\n",
    "        return len(self.dataset)"
   ]
  },
  {
   "cell_type": "code",
   "execution_count": null,
   "id": "f2534b3d-4f52-4bbb-b775-8d1ebb56d9aa",
   "metadata": {},
   "outputs": [],
   "source": [
    "class DataLoader:\n",
    "    def __init__(self, dataset):\n",
    "        super(data.DataLoader).__init__()\n",
    "\n",
    "        self.dataloader = data.DataLoader(dataset = dataset,\n",
    "                                          batch_size = 1,\n",
    "                                          shuffle = True,\n",
    "                                          drop_last = True)"
   ]
  },
  {
   "cell_type": "code",
   "execution_count": null,
   "id": "31145fa0-a03b-423d-88ae-82e0584cc86b",
   "metadata": {},
   "outputs": [],
   "source": [
    "if __name__ == \"__main__\":\n",
    "    dataset = Dataset()\n",
    "    dataLoader = DataLoader(dataset)"
   ]
  }
 ],
 "metadata": {
  "kernelspec": {
   "display_name": "Python 3",
   "language": "python",
   "name": "python3"
  },
  "language_info": {
   "codemirror_mode": {
    "name": "ipython",
    "version": 3
   },
   "file_extension": ".py",
   "mimetype": "text/x-python",
   "name": "python",
   "nbconvert_exporter": "python",
   "pygments_lexer": "ipython3",
   "version": "3.8.10"
  }
 },
 "nbformat": 4,
 "nbformat_minor": 5
}
